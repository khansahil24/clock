{
 "cells": [
  {
   "cell_type": "code",
   "execution_count": 1,
   "id": "476acedf",
   "metadata": {},
   "outputs": [],
   "source": [
    "from tkinter import *\n",
    "from time import *\n",
    "window=Tk()\n",
    "def update():\n",
    "    time_string=strftime(\"%I : %M : %S:%p\")\n",
    "    time_label.config(text=time_string)\n",
    "    date_string=strftime(\"%A\")\n",
    "    date_label.config(text=date_string)\n",
    "    day_string=strftime(\"%B %M %Y\")\n",
    "    day_label.config(text=day_string)\n",
    "    time_label.after(1000,update)\n",
    "\n",
    "\n",
    "time_label=Label(window,font=(\"ink free\",30),bg=\"#D1BE97\",width=13,height=2,fg='green')\n",
    "time_label.pack()\n",
    "date_label=Label(window,font=(\"ink free\",30),bg=\"#EFD486\",width=13,height=2,fg='green')\n",
    "date_label.pack()\n",
    "day_label=Label(window,font=(\"ink free\",26),bg=\"#7C6C43\",width=15,height=2,fg='#D579BB')\n",
    "day_label.pack()\n",
    "\n",
    "\n",
    "update()\n",
    "\n",
    "\n",
    "window.title(\"Time\")\n",
    "window.mainloop()\n"
   ]
  },
  {
   "cell_type": "code",
   "execution_count": null,
   "id": "3b2761ee",
   "metadata": {},
   "outputs": [],
   "source": []
  }
 ],
 "metadata": {
  "kernelspec": {
   "display_name": "Python 3 (ipykernel)",
   "language": "python",
   "name": "python3"
  },
  "language_info": {
   "codemirror_mode": {
    "name": "ipython",
    "version": 3
   },
   "file_extension": ".py",
   "mimetype": "text/x-python",
   "name": "python",
   "nbconvert_exporter": "python",
   "pygments_lexer": "ipython3",
   "version": "3.11.5"
  }
 },
 "nbformat": 4,
 "nbformat_minor": 5
}
